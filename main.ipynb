{
 "cells": [
  {
   "cell_type": "code",
   "execution_count": 1,
   "metadata": {},
   "outputs": [
    {
     "data": {
      "text/plain": [
       "'2.0.0'"
      ]
     },
     "execution_count": 1,
     "metadata": {},
     "output_type": "execute_result"
    }
   ],
   "source": [
    "import tensorflow as tf\n",
    "tf.__version__"
   ]
  },
  {
   "cell_type": "code",
   "execution_count": 18,
   "metadata": {},
   "outputs": [],
   "source": [
    "# limit GPU growth"
   ]
  },
  {
   "cell_type": "code",
   "execution_count": 9,
   "metadata": {},
   "outputs": [],
   "source": [
    "from datasets import get_dataset\n",
    "from blocks import *\n",
    "from losses import *\n",
    "from utils import show"
   ]
  },
  {
   "cell_type": "code",
   "execution_count": 2,
   "metadata": {},
   "outputs": [],
   "source": [
    "# config\n",
    "data_loader_train = \"../FUNIT/datasets/animals/\"\n",
    "data_list_train = \"../FUNIT/datasets/animals_list_train.txt\"\n",
    "data_loader_test = \"\"\n",
    "data_list_test = \"\"\n",
    "crop_size = (128,128) #(height,width)\n",
    "resize_size = (140,140)"
   ]
  },
  {
   "cell_type": "code",
   "execution_count": null,
   "metadata": {},
   "outputs": [],
   "source": [
    "import argparse\n",
    "if __name__ == \"__main__\":\n",
    "    parser = argparse.ArgumentParser()\n",
    "    parser.add_argument('--config',\n",
    "                        type=str,\n",
    "                        default='../FUNIT/configs/funit_animals.yaml',\n",
    "                        help='configuration file for training and testing')\n",
    "    parser.add_argument('--batch_size', type=int, default=0)\n",
    "    opts = parser.parse_args()\n",
    "    config = get_config(opts.config)\n",
    "    \n",
    "    epochs = config['max_iter']\n",
    "    if opts.batch_size != 0:\n",
    "        config['batch_size'] = opts.batch_size\n",
    "        \n",
    "    # Networks\n",
    "    networks = FUNIT(config)\n",
    "\n",
    "    # Datasets\n",
    "    datasets = get_datasets(config)\n",
    "    train_content_dataset = datasets[0]\n",
    "    train_class_dataset = datasets[1]\n",
    "    train_dataset = tf.data.Dataset.zip((train_content_dataset, train_class_dataset))\n",
    "    test_content_dataset = datasets[2]\n",
    "    test_class_dataset = datasets[3]\n",
    "    test_dataset = tf.data.Dataset.zip((train_content_dataset, train_class_dataset))\n",
    "    \n",
    "    for epoch in range(epochs):\n",
    "        for (co_data, cl_data) in train_dataset:\n",
    "            train_step(co_data,cl_data,config)\n",
    "    \n",
    "    # NOTICED - need to check correctness of AdaIN\n",
    "    # layer = AdaptiveInstanceNorm2D()"
   ]
  },
  {
   "cell_type": "code",
   "execution_count": null,
   "metadata": {},
   "outputs": [],
   "source": [
    "# @tf.function\n",
    "def train_step(nets,co_data,cl_data,config):\n",
    "    xa, la = co_data\n",
    "    xb, lb = cl_data\n",
    "    return_items = {}\n",
    "    with tf.GradientTape() as g_tape, tf.GradientTape() as d_tape:\n",
    "        xt, xr, xa_gan_feat, xb_gan_feat = nets.gen_update(co_data,cl_data,config)\n",
    "        resp_real, real_gen_feat, xt, resp_fake, fake_gan_feat = nets.dis_update(co_data,cl_data,config)\n",
    "        \n",
    "        # Generator - GAN loss\n",
    "        l_adv_t = GANloss.gen_loss(xt,lb)\n",
    "        l_adv_r = GANloss.gen_loss(xr,la)\n",
    "        l_adv = 0.5 * (l_adv_t + l_adv_r)\n",
    "        # Generator - Reconstruction loss\n",
    "        l_x_rec = recon_loss(xr, xa)\n",
    "        # Generator - Feature Matching loss\n",
    "        _, xr_gan_feat = nets.dis(xr, la)\n",
    "        _, xt_gan_feat = nets.dis(xt, lb)\n",
    "        l_c_rec = featmatch_loss(xr_gan_feat, xa_gan_feat)\n",
    "        l_m_rec = featmatch_loss(xt_gan_feat, xb_gan_feat)\n",
    "        \n",
    "        G_loss = config['gan_w'] * l_dav +\\\n",
    "                 config['r_w'] * l_x_rec +\\\n",
    "                 config['fm_w'] * (l_c_rec + l_m_rec)\n",
    "        \n",
    "        # Discriminator - GAN loss\n",
    "        l_real = GANloss.dis_loss(xb, lb, 'real')\n",
    "        l_fake = GANloss.dis_loss(xt, lb, 'fake')\n",
    "        # Discriminator - Gradient Penalty\n",
    "        # ??? grad_dout = autograd.grad(...)[0]\n",
    "        l_reg = gradient_penalty(resp_real, xb)\n",
    "        \n",
    "        D_loss = config['gan_w'] * l_real +\\\n",
    "                 config['gan_w'] * l_fake +\\\n",
    "                 10 * l_reg\n",
    "        \n",
    "    # Update Gradient\n",
    "    # - Gradient computing\n",
    "    gen_grad = g_tape.gradient(G_loss, nets.gen.trainable_variables)\n",
    "    dis_grad = d_tape.gradient(D_loss, nets.dis.trainable_variables)\n",
    "    # - Optimizer\n",
    "    nets.opt_gen.apply_gradients(zip(gen_grad, nets.gen.trainable_variables))\n",
    "    nets.opt_gen.apply_gradients(zip(dis_grad, nets.dis.trainable_variables))\n",
    "    \n",
    "    return_items['G_loss'] = G_loss.numpy()\n",
    "    return_items['D_loss'] = D_loss.numpy()\n",
    "    return return_items"
   ]
  },
  {
   "cell_type": "code",
   "execution_count": null,
   "metadata": {},
   "outputs": [],
   "source": [
    "#================================ All Outputs\n",
    "# 先用Dataset輸出到matplot測試\n",
    "import matplotlib.pyplot as plt\n",
    "# Constrained Layout Guide - https://matplotlib.org/3.1.1/tutorials/intermediate/constrainedlayout_guide.html\n",
    "# Customizing Figure Layouts - https://matplotlib.org/3.1.1/tutorials/intermediate/gridspec.html\n",
    "# matplotlib.pyplot.figure - https://matplotlib.org/3.1.1/api/_as_gen/matplotlib.pyplot.figure.html\n",
    "def write_images(images, display_labels):\n",
    "    \n",
    "#================================ TensorBoard (later)\n",
    "#================================ Check Points (later)\n",
    "#================================ Distributed Training (later)"
   ]
  },
  {
   "cell_type": "code",
   "execution_count": 5,
   "metadata": {},
   "outputs": [],
   "source": [
    "test1 = tf.random.normal([2,25,25,32])\n",
    "test2 = tf.random.normal([2,128])"
   ]
  },
  {
   "cell_type": "code",
   "execution_count": 4,
   "metadata": {},
   "outputs": [],
   "source": [
    "# block = ContentEncoder(3,2,64,'in','relu','reflect')\n",
    "# block = ClassEncoder(4,64,64,'none','relu','reflect')\n",
    "# block = Decoder(3,2,32,3,'relu','reflect')\n",
    "# block = MLP(32,256,3,'relu')"
   ]
  },
  {
   "cell_type": "code",
   "execution_count": 6,
   "metadata": {},
   "outputs": [],
   "source": [
    "result = block(test2)"
   ]
  },
  {
   "cell_type": "code",
   "execution_count": null,
   "metadata": {},
   "outputs": [],
   "source": []
  }
 ],
 "metadata": {
  "kernelspec": {
   "display_name": "Python 3",
   "language": "python",
   "name": "python3"
  },
  "language_info": {
   "codemirror_mode": {
    "name": "ipython",
    "version": 3
   },
   "file_extension": ".py",
   "mimetype": "text/x-python",
   "name": "python",
   "nbconvert_exporter": "python",
   "pygments_lexer": "ipython3",
   "version": "3.6.7"
  }
 },
 "nbformat": 4,
 "nbformat_minor": 4
}
